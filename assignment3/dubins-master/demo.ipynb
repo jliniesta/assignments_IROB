{
 "cells": [
  {
   "cell_type": "markdown",
   "metadata": {},
   "source": [
    "# Dubins Car Challenge\n",
    "DD2410 — Planning Assignment <br/>\n",
    "Chris Sprague <br/>\n",
    "sprague@kth.se"
   ]
  },
  {
   "cell_type": "markdown",
   "metadata": {},
   "source": [
    "# Description\n",
    "\n",
    "In this assignment you're tasked to implement a robotic planning method to drive a Dubins car with the dynamics\n",
    "$$\n",
    "\\left[\n",
    "\\begin{matrix}\n",
    "\\frac{dx}{dt} \\\\\n",
    "\\frac{dy}{dt} \\\\\n",
    "\\frac{d\\theta}{dt} \\\\\n",
    "\\end{matrix}\\right]\n",
    "=\n",
    "\\left[\n",
    "\\begin{matrix}\n",
    "\\cos \\theta \\\\\n",
    "\\sin \\theta \\\\\n",
    "\\tan \\phi(t)\n",
    "\\end{matrix}\n",
    "\\right]\n",
    "$$\n",
    "from an initial position $(x_0, y_0)$ to a target position $(x_f, y_f)$, while avoiding collisions with obstacles and going out of bounds."
   ]
  },
  {
   "cell_type": "markdown",
   "metadata": {},
   "source": [
    "## Variables\n",
    "The state variables are\n",
    "\\begin{matrix}\n",
    "x & = & \\text{horizontal position} \\\\\n",
    "y & = & \\text{vertical position} \\\\\n",
    "\\theta & = & \\text{heading position}\n",
    "\\end{matrix}\n",
    "and the control is\n",
    "$$\n",
    "\\phi(t) = [-\\pi/4, \\pi/4] = \\text{steering angle}.\n",
    "$$"
   ]
  },
  {
   "cell_type": "markdown",
   "metadata": {},
   "source": [
    "# Tasks\n",
    "\n",
    "We'll consider two graded tasks in order of difficulty:\n",
    " - **E** — reach the target with circular obstacles;\n",
    " - **C** — reach the target with line obstacles.\n",
    " \n",
    "**Note**:\n",
    "- the line obstacles are represented by a series of circular obstacles,\n",
    "- the initial and target positions are randomised,\n",
    "- and the obstacle in Kattis are different."
   ]
  },
  {
   "cell_type": "markdown",
   "metadata": {},
   "source": [
    "# Your solution file\n",
    "Using the API (see `README.md`) and a robotic planning method, generate a sequence of steering angle commands `controls` and a sequence of times `times`, between which the commands are executed, that would yield a collision-free and task-fulfilling trajectory.\n",
    "\n",
    "Do this by editing the function `solution(car)` contained in the file `solution.py`. If needed, supporting code can be added outside the `solution(car)` function.\n",
    "\n",
    "The template solution looks like this:\n",
    "\n",
    "```python\n",
    "def solution(car):\n",
    "\n",
    "    ''' <<< write your code below >>> '''\n",
    "    controls=[0]\n",
    "    times=[0,1]\n",
    "\n",
    "    ''' <<< write your code above >>> '''\n",
    "\n",
    "    return controls, times\n",
    "```"
   ]
  },
  {
   "cell_type": "markdown",
   "metadata": {},
   "source": [
    "## The solution function\n",
    "The solution function `solution(car)` recieves a `Car` instance `car` and returns a tuple containing\n",
    " - `controls : list`: sequence of steering angles `controls[i] : float`\n",
    " - `times : list`: sequence of times at which the controls are executed `times[i] : float`\n",
    "\n",
    "**Note**: `controls[i]` is considered to be constant between `times[i]` and `times[i+1]`, hence `len(controls) == len(times) - 1`."
   ]
  },
  {
   "cell_type": "markdown",
   "metadata": {},
   "source": [
    "## The `Car` object\n",
    "The `Car` object has several attributes which you may find useful, namely:\n",
    " - `x0 : float`: initial x-position\n",
    " - `y0 : float`: initial y-position\n",
    " - `xt : float`: target x-position\n",
    " - `yt : float`: target y-position\n",
    " - `xlb : float`: minimum x-position\n",
    " - `xub : float`: maximum x-position\n",
    " - `ylb : float`: minimum y-position\n",
    " - `yub : float`: maximum y-position\n",
    " - `obs : list`: list of tuples for each obstacle `obs[i]`, where:\n",
    "   - `obs[i][0] : float`: x-position\n",
    "   - `obs[i][1] : float`: y-position\n",
    "   - `obs[i][2] : float`: radius\n",
    "\n",
    "**Note**: these attributes should not be edited."
   ]
  },
  {
   "cell_type": "code",
   "execution_count": 1,
   "metadata": {
    "tags": []
   },
   "outputs": [
    {
     "name": "stdout",
     "output_type": "stream",
     "text": [
      "{'_environment': <dubins.Environment object at 0x7f5e00ee3518>, 'x0': 0.0, 'y0': 8.908780848746694, 'xt': 20.0, 'yt': 1.9282473938642628, 'obs': [(11.377212042161013, 6.923039623019223, 0.766670514349078), (7.947858613948724, 3.9977676823704598, 0.6829138005848131), (7.159247834643865, 8.769915767224704, 0.523694870655307), (5.316608637611337, 3.4192956515971797, 0.5005662720200484), (8.906854605717491, 1.628549213982335, 0.5494404586818169), (5.5613455772858815, 1.0005058712502697, 0.6970200218763206), (13.683099626435894, 2.7512858628463333, 0.6121379991082873), (14.744860637337226, 5.5142173984467995, 0.7479095097298969), (10.138754321033616, 4.544374934188868, 0.5547521810428551), (6.847806549066068, 6.568694921424221, 0.5712500828033331), (11.939822360563667, 1.0928125478108301, 0.7416698855813227), (12.460171777588394, 9.2909338808647, 0.5171903271664242), (4.614631331326579, 6.863369592746239, 0.592826000000579), (14.496016502005245, 9.367596978003462, 0.5112497512841205), (15.098809834069137, 0.8531125228182347, 0.7120444506545658), (9.120996066229425, 7.8926598626719855, 0.5157117204087053), (4.713052927019024, 9.13205134328056, 0.5609869995926579), (12.292825804549572, 4.728673659627923, 0.563108431194141)], 'xlb': 0.0, 'xub': 20.0, 'ylb': 0.0, 'yub': 10.0}\n"
     ]
    }
   ],
   "source": [
    "from dubins import Car\n",
    "car = Car()\n",
    "print(car.__dict__)"
   ]
  },
  {
   "cell_type": "markdown",
   "metadata": {},
   "source": [
    "## The `step` function\n",
    "The method that you'll need to utilise in your implementation of robotic planning methods is `step(car, x, y, theta, phi)` (imported from `dubins`), which takes as its arguments:\n",
    " - `car : Car`: instance of `Car`\n",
    " - `x : float`: x-position\n",
    " - `y : float`: y-position\n",
    " - `theta : float`: heading angle\n",
    " - `phi : float`: steering angle\n",
    " - `dt=0.01: float`: time-step size\n",
    "\n",
    "and returns a tuple of the form `(xn, yn, thetan)` after `dt` seconds, containing:\n",
    " - `xn : float`: new x-position\n",
    " - `yn : float`: new y-position\n",
    " - `thetan : float`: new heading angle\n",
    "\n",
    "**Note**: `dt` should not be below 0.01s.\n",
    "\n",
    "After computing the new state `xn, yn, thetan = step(car, x, y, theta, phi)`, check `car.obs` to see if the new state is within any obstacles, `(car.xlb, car.xub, car.ylb, car.yub)` to see if it is out of bounds, and `(car.xt, car.yt)` to see if it is close the the target state."
   ]
  },
  {
   "cell_type": "markdown",
   "metadata": {},
   "source": [
    "## Taking a single step"
   ]
  },
  {
   "cell_type": "code",
   "execution_count": 2,
   "metadata": {},
   "outputs": [
    {
     "data": {
      "text/plain": [
       "(0.1, 8.908780848746694, 0.010033467208545055)"
      ]
     },
     "execution_count": 2,
     "metadata": {},
     "output_type": "execute_result"
    }
   ],
   "source": [
    "from dubins import step\n",
    "\n",
    "# arbitrary heading and steering angle\n",
    "theta, phi = 0.0, 0.1\n",
    "\n",
    "# take a step\n",
    "step(car, car.x0, car.y0, theta, phi, dt=0.1)"
   ]
  },
  {
   "cell_type": "markdown",
   "metadata": {},
   "source": [
    "## Recording multiple steps"
   ]
  },
  {
   "cell_type": "code",
   "execution_count": 3,
   "metadata": {
    "tags": []
   },
   "outputs": [
    {
     "name": "stdout",
     "output_type": "stream",
     "text": [
      "The state after 10s is (x=0.999, y=8.954, theta=0.100)\n",
      "The controls and times were:\n",
      " phi=[0.1, 0.1, 0.1, 0.1, 0.1, 0.1, 0.1, 0.1, 0.1, 0.1] \n",
      " t=[0.0, 0.1, 0.2, 0.30000000000000004, 0.4, 0.5, 0.6, 0.7, 0.7999999999999999, 0.8999999999999999, 0.9999999999999999]\n"
     ]
    }
   ],
   "source": [
    "# trajectory: x, y, theta, phi, time\n",
    "xl, yl, thetal, phil, tl = [car.x0], [car.y0], [0.0], [], [0.0]\n",
    "\n",
    "# simulate for 1 seconds with constant steering angle\n",
    "phi = 0.1\n",
    "for _ in range(10):\n",
    "    xn, yn, thetan = step(car, xl[-1], yl[-1], thetal[-1], phi, dt=0.1)\n",
    "    xl.append(xn)\n",
    "    yl.append(yn)\n",
    "    thetal.append(thetan)\n",
    "    phil.append(phi)\n",
    "    tl.append(tl[-1] + 0.1)\n",
    "\n",
    "print('The state after 10s is (x={:.3f}, y={:.3f}, theta={:.3f})'.format(\n",
    "    xl[-1], yl[-1], thetal[-1]\n",
    "))\n",
    "print('The controls and times were:\\n phi={} \\n t={}'.format(phil, tl))"
   ]
  },
  {
   "cell_type": "markdown",
   "metadata": {},
   "source": [
    "# Creating a solution"
   ]
  },
  {
   "cell_type": "code",
   "execution_count": 3,
   "metadata": {
    "tags": []
   },
   "outputs": [],
   "source": [
    "#!/usr/bin/env python3\n",
    "# -*- coding: utf-8 -*- \n",
    "\n",
    "# {Javier Lopez Iniesta Diaz del Campo}\n",
    "# {19990714-T692}\n",
    "# {jliddc@kth.se}\n",
    "\n",
    "from dubins import *\n",
    "from math import sqrt\n",
    "import numpy as np\n",
    "import random\n",
    "\n",
    "def solution(car):\n",
    "\n",
    "    # X: Minimum and maximum positions [m] - Random area\n",
    "    x_min = car.xlb \n",
    "    x_max = car.xub \n",
    "    y_min = car.ylb \n",
    "    y_max = car.yub\n",
    "\n",
    "    # Initial positions [m] - Start\n",
    "    x0 = car.x0 \n",
    "    y0 = car.y0 \n",
    "    theta0 = 0\n",
    "    phi0 = 0\n",
    "    start = [x0, y0, theta0, phi0] \n",
    "\n",
    "    # Target positions [m] - Goal\n",
    "    x_target = car.xt \n",
    "    y_target = car.yt \n",
    "\n",
    "    # Obstacles\n",
    "    obstacles = car.obs\n",
    "\n",
    "    print(\"Start position: (\", x0, \", \",y0, \")\")\n",
    "    print(\"Goal position: (\", x_target, \", \", y_target, \")\")\n",
    "\n",
    "    # RRT \n",
    "    x = None # horizontal position\n",
    "    y = None # vertical position\n",
    "    theta = None # heading angle\n",
    "\n",
    "    nodes = np.array([start])\n",
    "\n",
    "    iteration = 0\n",
    "    flag_continue = True\n",
    "    goal_reached = False\n",
    "\n",
    "    path_length = 100 # number maximum of steps\n",
    "    max_iterations=1000\n",
    "\n",
    "    finish_threshold = 20 # 1.5 meters\n",
    "    collision_margin = 0.1 # 0.1 meters\n",
    "\n",
    "    dt = 0.01\n",
    "\n",
    "    controls=[0]\n",
    "    times=[0,1]\n",
    "\n",
    "    while flag_continue:\n",
    "\n",
    "        iteration = iteration +1\n",
    "        # print(\"Iteration: \", iteration)\n",
    "\n",
    "        # 1) Pick a random point a in X(x,y)\n",
    "\n",
    "        # Random float point between the minimum and the maximum\n",
    "        random_x = random.uniform(x_min, x_max)\n",
    "        random_y = random.uniform(y_min, y_max)\n",
    "\n",
    "        # point = (random_x, random_y)\n",
    "        goal_frequency = 5 # The 20% of the samples will be the target point. Whereas the 80% will be a random point\n",
    "        if (iteration % goal_frequency):\n",
    "            point = (x_target, y_target)\n",
    "        else: \n",
    "            point = (random_x, random_y)\n",
    "        \n",
    "        # 2) Find b, the node of the tree closest to a\n",
    "        distance = []\n",
    "        for n in range(len(nodes)):\n",
    "            node_distance = (nodes[n][0]-point[0])**2 + (nodes[n][1]-point[1])**2\n",
    "            distance.append(node_distance)\n",
    "\n",
    "        index_nearest_neighbor = distance.index(min(distance))\n",
    "\n",
    "        x = nodes[index_nearest_neighbor][0]\n",
    "        y = nodes[index_nearest_neighbor][1]\n",
    "        theta = nodes[index_nearest_neighbor][2]\n",
    "\n",
    "        # 3) Find control inputs u to steer the robot from b to a\n",
    "\n",
    "        # Steering angle: phi ∈ [-pi/4, 0, pi/4]\n",
    "        steering_angle = [-np.pi/4, 0, np.pi/4]\n",
    "\n",
    "        for phi in steering_angle:\n",
    "            \n",
    "            print(\"Actual phi: \", phi)\n",
    "\n",
    "            x_total = np.zeros(path_length)\n",
    "            y_total = np.zeros(path_length)\n",
    "            theta_total = np.zeros(path_length)\n",
    "\n",
    "            for i in range(path_length):\n",
    "\n",
    "                x_total[i], y_total[i], theta_total[i] = step(car, x, y, theta, phi)\n",
    "\n",
    "                while (theta_total[i] >= np.pi):\n",
    "                    theta_total[i] = theta_total[i] - 2*np.pi/2\n",
    "                while (theta_total[i] <= np.pi):\n",
    "                    theta_total[i] = theta_total[i] + 2*np.pi/2\n",
    "\n",
    "                # Obstacles\n",
    "                distance_to_obstacle = []\n",
    "\n",
    "                for j in range(len(car.obs)):\n",
    "                    distance_obs = sqrt((obstacles[j][0]-x_total[i])**2 + (obstacles[j][1]-y_total[i])**2)\n",
    "                    # print(\"Distance to obstacle j: \", distance_obs)\n",
    "                    distance_to_obstacle.append(distance_obs)\n",
    "\n",
    "                    # If the path goes into an obstacle\n",
    "                    if (distance_to_obstacle[j] <= (obstacles[j][2] + collision_margin)):\n",
    "                        print(\"Collision with an obstacle!\")\n",
    "                        break\n",
    "\n",
    "                # Out of bounds\n",
    "                if ((x_total[i] < x_min) or (x_total[i] > x_max)):\n",
    "                    print(\"Out of bounds!\")\n",
    "                    break\n",
    "                elif ((y_total[i] < y_min) or (y_total[i] > y_max)):\n",
    "                    print(\"Out of bounds!\")\n",
    "                    break\n",
    "\n",
    "                new_node = np.array([[x_total[i], y_total[i], theta_total[i], phi]])\n",
    "                nodes = np.concatenate((nodes, new_node), axis=0)\n",
    "\n",
    "                times.append(times[-1] + dt)\n",
    "                controls.append(phi)\n",
    "\n",
    "                # Reach target\n",
    "                distance_to_target = sqrt((x_target-x_total[i])**2 + (y_target-y_total[i])**2)\n",
    "                # print(\"Distance to target: \", distance_to_target)\n",
    "                # If it is 1.5 meteres withing of the target.\n",
    "                if (distance_to_target < finish_threshold): \n",
    "                    goal_reached = True\n",
    "                    print(\"Goal reached!\")\n",
    "                    break\n",
    "\n",
    "            if (goal_reached):\n",
    "                break\n",
    "\n",
    "        if (iteration == max_iterations) or (goal_reached == True):\n",
    "            flag_continue = False\n",
    "            break\n",
    "\n",
    "    print(\"devuelve el final\")\n",
    "    # print(\"Length times: \", len(times))\n",
    "    # print(\"Length controls: \", len(controls))\n",
    "\n",
    "    # 4) Apply control inputs u from time δ, so robot reaches c\n",
    "    return controls, times\n"
   ]
  },
  {
   "cell_type": "markdown",
   "metadata": {},
   "source": [
    "## Evaluating your solution"
   ]
  },
  {
   "cell_type": "code",
   "execution_count": 2,
   "metadata": {
    "tags": []
   },
   "outputs": [
    {
     "ename": "NameError",
     "evalue": "name 'solution' is not defined",
     "output_type": "error",
     "traceback": [
      "\u001b[1;31m---------------------------------------------------------------------------\u001b[0m",
      "\u001b[1;31mNameError\u001b[0m                                 Traceback (most recent call last)",
      "\u001b[1;32mC:\\Users\\FRANCI~1\\AppData\\Local\\Temp/ipykernel_15120/1686226789.py\u001b[0m in \u001b[0;36m<module>\u001b[1;34m\u001b[0m\n\u001b[0;32m      1\u001b[0m \u001b[0mget_ipython\u001b[0m\u001b[1;33m(\u001b[0m\u001b[1;33m)\u001b[0m\u001b[1;33m.\u001b[0m\u001b[0mrun_line_magic\u001b[0m\u001b[1;33m(\u001b[0m\u001b[1;34m'matplotlib'\u001b[0m\u001b[1;33m,\u001b[0m \u001b[1;34m'inline'\u001b[0m\u001b[1;33m)\u001b[0m\u001b[1;33m\u001b[0m\u001b[1;33m\u001b[0m\u001b[0m\n\u001b[0;32m      2\u001b[0m \u001b[1;32mfrom\u001b[0m \u001b[0mmain\u001b[0m \u001b[1;32mimport\u001b[0m \u001b[0mmain\u001b[0m\u001b[1;33m\u001b[0m\u001b[1;33m\u001b[0m\u001b[0m\n\u001b[1;32m----> 3\u001b[1;33m \u001b[0mmain\u001b[0m\u001b[1;33m(\u001b[0m\u001b[0msolution\u001b[0m\u001b[1;33m,\u001b[0m \u001b[0mplot\u001b[0m\u001b[1;33m=\u001b[0m\u001b[1;32mTrue\u001b[0m\u001b[1;33m,\u001b[0m \u001b[0mverbose\u001b[0m\u001b[1;33m=\u001b[0m\u001b[1;32mFalse\u001b[0m\u001b[1;33m)\u001b[0m\u001b[1;33m\u001b[0m\u001b[1;33m\u001b[0m\u001b[0m\n\u001b[0m",
      "\u001b[1;31mNameError\u001b[0m: name 'solution' is not defined"
     ]
    }
   ],
   "source": [
    "%matplotlib inline\n",
    "from main import main\n",
    "main(solution, plot=True, verbose=False)"
   ]
  },
  {
   "cell_type": "markdown",
   "metadata": {},
   "source": [
    "Once you're done editing `solution.py`, you can also evaluate how well in the terminal by executing\n",
    "- `python3 main.py`,\n",
    "- `python3 main.py -p` for plotting,\n",
    "- `python3 main.py -v` for step feedback,\n",
    "- or `python3 main.py -p -v` for both.\n",
    "\n",
    "**Note**: \n",
    "- you must install `matplotlib` for plotting to work,\n",
    "- simulation is done at `dt=0.01` between `times[i]` and `times[i+1]`."
   ]
  },
  {
   "cell_type": "markdown",
   "metadata": {},
   "source": [
    "A succesful solution will generate something like this:\n",
    "```bash\n",
    "python3 main.py -p\n",
    "```\n",
    "```bash\n",
    "Grade E: 6/6 cases passed.\n",
    "Grade C: 6/6 cases passed.\n",
    "```\n",
    "![](plot.png)"
   ]
  },
  {
   "cell_type": "markdown",
   "metadata": {},
   "source": [
    "# Useful resources\n",
    "- [PythonRobotics](https://github.com/AtsushiSakai/PythonRobotics#path-planning) for planning algorithms,\n",
    "- [demo.ipynb](demo.ipynb) for this assignment's introduction."
   ]
  },
  {
   "cell_type": "code",
   "execution_count": null,
   "metadata": {},
   "outputs": [],
   "source": []
  }
 ],
 "metadata": {
  "kernelspec": {
   "display_name": "Python 3.7.7 64-bit",
   "language": "python",
   "name": "python3"
  },
  "language_info": {
   "codemirror_mode": {
    "name": "ipython",
    "version": 3
   },
   "file_extension": ".py",
   "mimetype": "text/x-python",
   "name": "python",
   "nbconvert_exporter": "python",
   "pygments_lexer": "ipython3",
   "version": "3.7.7"
  },
  "vscode": {
   "interpreter": {
    "hash": "49a108110633cba9fdd1676430dd0df6efaa292dc84a86a1ffe5dc61d7a6c362"
   }
  }
 },
 "nbformat": 4,
 "nbformat_minor": 2
}
